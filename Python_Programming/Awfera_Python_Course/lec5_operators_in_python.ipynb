{
 "cells": [
  {
   "cell_type": "markdown",
   "metadata": {},
   "source": [
    "Operators"
   ]
  },
  {
   "cell_type": "markdown",
   "metadata": {},
   "source": [
    "1- Assignment Operators"
   ]
  },
  {
   "cell_type": "code",
   "execution_count": 4,
   "metadata": {},
   "outputs": [
    {
     "name": "stdout",
     "output_type": "stream",
     "text": [
      "5\n",
      "13\n",
      "10\n"
     ]
    }
   ],
   "source": [
    "x=5\n",
    "print(x)\n",
    "x+=8  #equivalent to x=x+8 =>Compound Assignment Operator\n",
    "print(x)\n",
    "x,y = 10,20 #Compound Assignment Statement\n",
    "print(x)"
   ]
  },
  {
   "cell_type": "markdown",
   "metadata": {},
   "source": [
    "2- Arithmetic Operators\n"
   ]
  },
  {
   "cell_type": "code",
   "execution_count": null,
   "metadata": {},
   "outputs": [],
   "source": [
    "a,b=10,3\n",
    "print(\"Addition\",a+b) \n",
    "print(\"Subtraction\",a-b)\n",
    "print(\"Multiplication\",a*b)\n",
    "print(\"Dvision\",a/b) #Gives  quotient but float answer \n",
    "print(\"Modulus\",a%b) #Remainder\n",
    "print(\"Floor Dvision\",a//b) # Gives quotient but florred i.e. 3.4 ->3 , 3.7->3\n",
    "print(\"Exponentiation\",a**b) #a raise to the power b i.e. a^b"
   ]
  },
  {
   "cell_type": "markdown",
   "metadata": {},
   "source": [
    "3- Comparison Operators\n",
    "\n",
    "Compare values and return true or false."
   ]
  },
  {
   "cell_type": "code",
   "execution_count": null,
   "metadata": {},
   "outputs": [
    {
     "name": "stdout",
     "output_type": "stream",
     "text": [
      "x>y: False\n",
      "x<y: True\n",
      "x==y: False\n",
      "x!=y: True\n",
      "x>=y: False\n",
      "x<=y: True\n"
     ]
    }
   ],
   "source": [
    "x,y=5,10\n",
    "print(\"x>y:\",x>y)\n",
    "print(\"x<y:\",x<y)\n",
    "print(\"x==y:\",x==y)\n",
    "print(\"x!=y:\",x!=y)\n",
    "print(\"x>=y:\",x>=y) #True when x is greater than OR equal to y\n",
    "print(\"x<=y:\",x<=y) #True when x is less than OR equal to y\n"
   ]
  },
  {
   "cell_type": "markdown",
   "metadata": {},
   "source": [
    "4- Logical Operators\n",
    "\n",
    "Mostly used to combine conditions\n",
    "\n",
    "**and\n",
    "**or\n",
    "**not"
   ]
  },
  {
   "cell_type": "code",
   "execution_count": null,
   "metadata": {},
   "outputs": [
    {
     "name": "stdout",
     "output_type": "stream",
     "text": [
      "a and b and c: False\n",
      "a or b or c: True\n",
      "not a: False\n"
     ]
    }
   ],
   "source": [
    "a,b,c=True,False,True\n",
    "print(\"a and b and c:\", a and b and c) #False if any one is false\n",
    "print(\"a or b or c:\",a or b or c)#True if any one is true\n",
    "print(\"not a:\",not a)#Inverts the state"
   ]
  }
 ],
 "metadata": {
  "kernelspec": {
   "display_name": "awfera",
   "language": "python",
   "name": "python3"
  },
  "language_info": {
   "codemirror_mode": {
    "name": "ipython",
    "version": 3
   },
   "file_extension": ".py",
   "mimetype": "text/x-python",
   "name": "python",
   "nbconvert_exporter": "python",
   "pygments_lexer": "ipython3",
   "version": "3.13.2"
  }
 },
 "nbformat": 4,
 "nbformat_minor": 2
}
