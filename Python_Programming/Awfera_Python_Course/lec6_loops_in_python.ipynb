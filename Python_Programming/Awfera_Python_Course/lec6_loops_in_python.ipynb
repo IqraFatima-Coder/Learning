{
 "cells": [
  {
   "cell_type": "markdown",
   "metadata": {},
   "source": [
    "# Loops in Python\n",
    "\n",
    "Used to perform Repetitive Tasks\n",
    "\n",
    " ## 1) For Loops\n",
    "\n",
    " Syntax:\n",
    " \n",
    "  *for item in squence:*\n",
    "    \n",
    "  *#process item()*"
   ]
  },
  {
   "cell_type": "markdown",
   "metadata": {},
   "source": [
    "*Using For Loop in List*"
   ]
  },
  {
   "cell_type": "code",
   "execution_count": null,
   "metadata": {},
   "outputs": [],
   "source": [
    "#Example 1 \n",
    "list1 = [1,2,3,4,5]\n",
    "for num in list1:\n",
    "    print(num)\n",
    "\n",
    "#Example 2 Conut Index \n",
    "#Method 1 Using function enumerate()\n",
    "print(\"Method 1\")\n",
    "fruits = ['apple','mango','orange']\n",
    "for index ,fruit in enumerate(fruits):\n",
    "    print(f\"Index {index}: {fruit}\")\n",
    "#Method 2 Manualy calculating\n",
    "print(\"Method 2\")\n",
    "index = 0\n",
    "for fruit in fruits:\n",
    "    print(f\"Index {index}: {fruit}\")\n",
    "    index+=1\n",
    "    "
   ]
  },
  {
   "cell_type": "markdown",
   "metadata": {},
   "source": [
    "*Using For Loop in Dictionary*"
   ]
  },
  {
   "cell_type": "code",
   "execution_count": 11,
   "metadata": {},
   "outputs": [
    {
     "name": "stdout",
     "output_type": "stream",
     "text": [
      "Iterating Over Keys\n",
      "name : Alice\n",
      "age : 10\n",
      "city : New York\n",
      "\n",
      "Iterating Over Key-Value Pairs\n",
      "name:Alice\n",
      "age:10\n",
      "city:New York\n"
     ]
    }
   ],
   "source": [
    "#Example 3\n",
    "person = {\n",
    "    'name':'Alice',\n",
    "    'age':10,\n",
    "    'city':'New York'\n",
    "}\n",
    "#Iterating Over Keys (But also printing values using keys)\n",
    "print(\"Iterating Over Keys\")\n",
    "for key in person:\n",
    "    print(f\"{key} : {person[key]}\")\n",
    "#Iterating Over Key Value Pairs (Using .item() fuction) \n",
    "print(\"\\nIterating Over Key-Value Pairs\")\n",
    "for key,value in person.items():\n",
    "    print(f\"{key}:{value}\")"
   ]
  },
  {
   "cell_type": "markdown",
   "metadata": {},
   "source": [
    "*Using For Loop in Sets and Tuples*"
   ]
  },
  {
   "cell_type": "code",
   "execution_count": null,
   "metadata": {},
   "outputs": [
    {
     "name": "stdout",
     "output_type": "stream",
     "text": [
      "Set\n",
      "1\n",
      "2\n",
      "3\n",
      "4\n",
      "Tuple\n",
      "1\n",
      "2\n",
      "3\n",
      "5\n"
     ]
    }
   ],
   "source": [
    "print(\"Set\")\n",
    "set1 = {1,2,3,4}\n",
    "for i in  set1:\n",
    "    print (i)\n",
    "    \n",
    "print(\"Tuple\")\n",
    "tuple1= (1,2,3,5)\n",
    "for i in tuple1:\n",
    "    print(i)"
   ]
  },
  {
   "cell_type": "markdown",
   "metadata": {},
   "source": [
    "## 2) While Loop"
   ]
  },
  {
   "cell_type": "code",
   "execution_count": null,
   "metadata": {},
   "outputs": [
    {
     "name": "stdout",
     "output_type": "stream",
     "text": [
      "Conut is:  0\n",
      "Conut is:  1\n",
      "Conut is:  2\n",
      "Conut is:  3\n",
      "Conut is:  4\n"
     ]
    }
   ],
   "source": [
    "#Example 4\n",
    "count = 0 \n",
    "while count < 5:\n",
    "    print(\"Conut is: \",count)\n",
    "    count+=1\n",
    "\n"
   ]
  },
  {
   "cell_type": "markdown",
   "metadata": {},
   "source": [
    "## 3) Loop Control Statements\n",
    "- break\n",
    "- continue\n",
    "- else =>Executes if no break occurs in loop and loop ends naturally"
   ]
  },
  {
   "cell_type": "code",
   "execution_count": 19,
   "metadata": {},
   "outputs": [
    {
     "name": "stdout",
     "output_type": "stream",
     "text": [
      "Current number: 0\n",
      "Current number: 1\n",
      "Current number: 2\n",
      "Skippig 3\n",
      "Current number: 4\n",
      "Current number: 5\n",
      "Current number: 6\n",
      "Current number: 7\n",
      "Breaking at 8\n",
      "Moved Outside the Loop\n"
     ]
    }
   ],
   "source": [
    "for i in range (10):\n",
    "    if i ==3:\n",
    "     print(\"Skippig 3\")\n",
    "     continue\n",
    "    if i ==8:\n",
    "        print(\"Breaking at 8\")\n",
    "        break\n",
    "    print(\"Current number:\",i)\n",
    "else:\n",
    "    print(\"Loop completed without break\")\n",
    "print(\"Moved Outside the Loop\")"
   ]
  }
 ],
 "metadata": {
  "kernelspec": {
   "display_name": "awfera",
   "language": "python",
   "name": "python3"
  },
  "language_info": {
   "codemirror_mode": {
    "name": "ipython",
    "version": 3
   },
   "file_extension": ".py",
   "mimetype": "text/x-python",
   "name": "python",
   "nbconvert_exporter": "python",
   "pygments_lexer": "ipython3",
   "version": "3.13.2"
  }
 },
 "nbformat": 4,
 "nbformat_minor": 2
}
