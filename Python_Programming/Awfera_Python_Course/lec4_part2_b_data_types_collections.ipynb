{
 "cells": [
  {
   "cell_type": "markdown",
   "metadata": {},
   "source": [
    "# Collections\n",
    "\n",
    "Collections are used to handle multiple values at a time.'\n",
    "\n",
    "## Collection Types:\n",
    "\n",
    "1) List\n",
    "\n",
    "2) Tuple\n",
    "\n",
    "3) Dictionary\n",
    "\n",
    "4) Set"
   ]
  },
  {
   "cell_type": "markdown",
   "metadata": {},
   "source": [
    "### 1) List\n",
    "\n",
    "=>Represented by Square Brackets \n",
    "\n",
    "=>Ordered Collection Data Type (Values are stored in an ordered form)\n",
    "\n",
    "=>Values may repeat\n",
    "\n",
    "=>Mutable (Values can be modified)\n"
   ]
  },
  {
   "cell_type": "markdown",
   "metadata": {},
   "source": [
    "List Declaration and Accessing ELements"
   ]
  },
  {
   "cell_type": "code",
   "execution_count": 4,
   "metadata": {},
   "outputs": [
    {
     "name": "stdout",
     "output_type": "stream",
     "text": [
      "10   40   40\n"
     ]
    }
   ],
   "source": [
    "empty_list  = []\n",
    "numbers = [10,20,30,40]\n",
    "mixed_list = [\"Hello\",3.14,True]\n",
    "\n",
    "#Accessing elements using index\n",
    "\n",
    "first_number= numbers[0]\n",
    "last_number_method1=numbers[-1]\n",
    "last_number_method2=numbers[3]\n",
    "print(first_number, \" \",last_number_method1,\" \", last_number_method2)\n"
   ]
  },
  {
   "cell_type": "markdown",
   "metadata": {},
   "source": [
    "Adding Removing & Modifying Elements\n"
   ]
  },
  {
   "cell_type": "code",
   "execution_count": 13,
   "metadata": {},
   "outputs": [
    {
     "name": "stdout",
     "output_type": "stream",
     "text": [
      "Original List [10, 20, 30, 40]\n",
      "List After Appending: [10, 20, 30, 40, 50]\n",
      "List after Insertion: [10, 15, 20, 30, 40, 50]\n",
      "List after Removing 20: [10, 15, 30, 40, 50]\n",
      "List after popping: [10, 15, 30, 40]\n",
      "Popped number =  50\n",
      "Modified List [10, 3, 30, 40]\n"
     ]
    }
   ],
   "source": [
    "numbers = [10,20,30,40]\n",
    "print(\"Original List\",numbers)\n",
    "#Adding\n",
    "numbers.append(50) #Add 50 at end\n",
    "print(\"List After Appending:\",numbers)\n",
    "\n",
    "numbers.insert(1,15)\n",
    "print(\"List after Insertion:\",numbers)\n",
    "\n",
    "#Removing\n",
    "numbers.remove(20)#Remove first occurence of 20\n",
    "print(\"List after Removing 20:\",numbers)\n",
    "popped_item = numbers.pop() #Returns and removes last element \n",
    "print(\"List after popping:\",numbers)\n",
    "print(\"Popped number = \",popped_item)\n",
    "\n",
    "#Modifying Element at a Certain Position\n",
    "numbers[1]= 3\n",
    "print(\"Modified List\", numbers)\n",
    "\n"
   ]
  },
  {
   "cell_type": "markdown",
   "metadata": {},
   "source": [
    "### 2) Tuple\n"
   ]
  },
  {
   "cell_type": "code",
   "execution_count": 25,
   "metadata": {},
   "outputs": [
    {
     "name": "stdout",
     "output_type": "stream",
     "text": [
      "(42,)\n",
      "(10, 20, 30)\n",
      "('Alice', 25, True)\n"
     ]
    }
   ],
   "source": [
    "empty_tuple = ()\n",
    "single_element_tuple=(42,) #A comma is necessary to distinguish single element tuple from a number\n",
    "print(single_element_tuple)\n",
    "\n",
    "\n",
    "numbers_tuple=(10,20,30)\n",
    "print(numbers_tuple)\n",
    "\n",
    "mixed_tuple=(\"Alice\",25,True)\n",
    "print(mixed_tuple)\n",
    "\n"
   ]
  },
  {
   "cell_type": "markdown",
   "metadata": {},
   "source": [
    "=>Main Operations"
   ]
  },
  {
   "cell_type": "code",
   "execution_count": null,
   "metadata": {},
   "outputs": [
    {
     "name": "stdout",
     "output_type": "stream",
     "text": [
      "10\n",
      "(20, 30)\n",
      "There's an Error: 'tuple' object does not support item assignment\n"
     ]
    }
   ],
   "source": [
    "numbers_tuple=(10,20,30)\n",
    "#Acessing a specific element----Indexing\n",
    "first_item=numbers_tuple[0]\n",
    "print(first_item)\n",
    "#Accessing a portion of Tuple ----Slicing \n",
    "sub_tuple=numbers_tuple[1:]\n",
    "print(sub_tuple)\n",
    "#Immutability\n",
    "try:\n",
    "    numbers_tuple[1]=99\n",
    "except TypeError as e:\n",
    "    print(\"There's an Error:\",e)\n",
    "\n",
    "\n"
   ]
  },
  {
   "cell_type": "markdown",
   "metadata": {},
   "source": [
    "Unpacking Tuple"
   ]
  },
  {
   "cell_type": "code",
   "execution_count": 38,
   "metadata": {},
   "outputs": [
    {
     "name": "stdout",
     "output_type": "stream",
     "text": [
      "One of the best Teachers of Physics is Sir. Hussaan Fareed\n",
      "I persume his age is 33\n",
      "He is a Physicist\n"
     ]
    }
   ],
   "source": [
    "#Unpacking Tuple\n",
    "person_tuple  =(\"Hussaan Fareed\",33,\"Physicist\")\n",
    "name,age,role=person_tuple\n",
    "print(\"One of the best Teachers of Physics is Sir.\", name)\n",
    "print(\"I persume his age is\",age)\n",
    "print (\"He is a\", role)\n"
   ]
  },
  {
   "cell_type": "markdown",
   "metadata": {},
   "source": [
    "### 3) Dictionary\n"
   ]
  },
  {
   "cell_type": "code",
   "execution_count": 6,
   "metadata": {},
   "outputs": [
    {
     "name": "stdout",
     "output_type": "stream",
     "text": [
      "{'name': 'Miss Maham', 'age': 20, 'Country': 'Pakistan'}\n",
      "{'name': 'Muhammad Shahzaib', 'Age': 17, 'College': 'Garrison Academy'}\n"
     ]
    }
   ],
   "source": [
    "empty_dict={}  \n",
    "#Using {} creates an empty dictionary, not an empty set. To create an empty set, you must use set().\n",
    "person_dict = {\"name\":\"Miss Maham\",\"age\":20,\"Country\":\"Pakistan\"}\n",
    "print(person_dict)\n",
    "\n",
    "another_dict=dict(name=\"Muhammad Shahzaib\",Age = 17,College=\"Garrison Academy\")\n",
    "print(another_dict)"
   ]
  },
  {
   "cell_type": "markdown",
   "metadata": {},
   "source": [
    "Accessing and Modifying Elements in Dictionary"
   ]
  },
  {
   "cell_type": "code",
   "execution_count": null,
   "metadata": {},
   "outputs": [
    {
     "name": "stdout",
     "output_type": "stream",
     "text": [
      "Name: Iqra Fatima\n",
      "Age 19\n"
     ]
    }
   ],
   "source": [
    "person_dict = {\"name\":\"Iqra Fatima\",\"age\":19,\"Country\":\"Pakistan\"}\n",
    "#Accessing Values by Keys\n",
    "print(\"Name:\",person_dict[\"name\"])\n",
    "#Preffered way for accessing elements (easy error handling)\n",
    "print(\"Age\",person_dict.get(\"age\"))\n",
    "#Adding element\n",
    "person_dict[\"city\"]=\"Gujrat\" \n",
    "\"\"\"    ||\n",
    "       \\/\n",
    "This will add the key-value if key doesn't exist\n",
    "If key already exists then updates the value\"\"\"\n"
   ]
  },
  {
   "cell_type": "markdown",
   "metadata": {},
   "source": [
    "Removing Elements from a Dictionary"
   ]
  },
  {
   "cell_type": "code",
   "execution_count": 13,
   "metadata": {},
   "outputs": [
    {
     "name": "stdout",
     "output_type": "stream",
     "text": [
      "Removed Age Value: 19\n"
     ]
    }
   ],
   "source": [
    "person_dict = {\"name\":\"Iqra Fatima\",\"age\":19,\"Country\":\"Pakistan\"}\n",
    "removed_value= person_dict.pop(\"age\")\n",
    "print(\"Removed Age Value:\",removed_value)"
   ]
  },
  {
   "cell_type": "markdown",
   "metadata": {},
   "source": [
    "Checking if a key exists in a dictionary"
   ]
  },
  {
   "cell_type": "code",
   "execution_count": 14,
   "metadata": {},
   "outputs": [
    {
     "name": "stdout",
     "output_type": "stream",
     "text": [
      "Name Key Exists!\n",
      "{'name': 'Iqra Fatima', 'Country': 'Pakistan'}\n"
     ]
    }
   ],
   "source": [
    "if \"name\" in person_dict:\n",
    "    print(\"Name Key Exists!\")\n",
    "print(person_dict)"
   ]
  },
  {
   "cell_type": "markdown",
   "metadata": {},
   "source": [
    "## 4)Sets\n",
    "\n",
    "Unordered Collection , No Duplication , Mutable"
   ]
  },
  {
   "cell_type": "code",
   "execution_count": null,
   "metadata": {},
   "outputs": [
    {
     "name": "stdout",
     "output_type": "stream",
     "text": [
      "set()\n",
      "{1, 2, 3, 4}\n",
      "{42, (1, 2), 'apple'}\n",
      "{1, 2, 3, 4, 23}\n",
      "{1, 3, 4, 23}\n"
     ]
    }
   ],
   "source": [
    "empty_set=set()\n",
    "numbers_set={1,2,3,4,3}#Repeating Elements automatically removes\n",
    "mixed_set={\"apple\",42,(1,2)}#Order is not maintained in sets \n",
    "\n",
    "print(empty_set)\n",
    "print(numbers_set)\n",
    "print(mixed_set)\n",
    "\n",
    "#Adding & Removing Elements\n",
    "numbers_set.add(23)#Adds 23 to set\n",
    "print(numbers_set)\n",
    "numbers_set.discard(2)#Removes 2 from set\n",
    "print(numbers_set)"
   ]
  },
  {
   "cell_type": "markdown",
   "metadata": {},
   "source": [
    "#### Sets Operations:\n",
    "\n",
    "*Union  *Intersection *Difference *Symmetric Difference"
   ]
  },
  {
   "cell_type": "code",
   "execution_count": 21,
   "metadata": {},
   "outputs": [
    {
     "name": "stdout",
     "output_type": "stream",
     "text": [
      "Union= {1, 2, 3, 4, 5, 6}\n",
      "Intersection= {3, 4}\n",
      "Difference= {1, 2}\n",
      "Symmetric Difference= {1, 2, 5, 6}\n"
     ]
    }
   ],
   "source": [
    "set_a={1,2,3,4}\n",
    "set_b={3,4,5,6}\n",
    "print(\"Union=\",set_a.union(set_b)) #All common & Uncommon Elements of A & B\n",
    "print(\"Intersection=\",set_a.intersection(set_b)) #All Common Elements of A & B\n",
    "print(\"Difference=\",set_a.difference(set_b)) #Elements of A not in B\n",
    "print(\"Symmetric Difference=\",set_a.symmetric_difference(set_b)) #Uncommon elements of A and B"
   ]
  }
 ],
 "metadata": {
  "kernelspec": {
   "display_name": "awfera",
   "language": "python",
   "name": "python3"
  },
  "language_info": {
   "codemirror_mode": {
    "name": "ipython",
    "version": 3
   },
   "file_extension": ".py",
   "mimetype": "text/x-python",
   "name": "python",
   "nbconvert_exporter": "python",
   "pygments_lexer": "ipython3",
   "version": "3.13.2"
  }
 },
 "nbformat": 4,
 "nbformat_minor": 2
}
