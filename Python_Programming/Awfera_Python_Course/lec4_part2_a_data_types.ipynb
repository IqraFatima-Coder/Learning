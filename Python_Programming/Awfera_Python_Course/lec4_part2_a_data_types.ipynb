{
 "cells": [
  {
   "cell_type": "markdown",
   "metadata": {},
   "source": [
    "# Python Data Types"
   ]
  },
  {
   "cell_type": "markdown",
   "metadata": {},
   "source": [
    "1- Integers"
   ]
  },
  {
   "cell_type": "code",
   "execution_count": 2,
   "metadata": {},
   "outputs": [
    {
     "name": "stdout",
     "output_type": "stream",
     "text": [
      "num1:  10 <class 'int'>\n",
      "num2:  -3 <class 'int'>\n",
      "num3:   0 <class 'int'>\n"
     ]
    }
   ],
   "source": [
    "num1 = 10\n",
    "num2 = -3\n",
    "num3 = 0\n",
    "print(\"num1: \",num1,type(num1))\n",
    "print(\"num2: \",num2,type(num2))\n",
    "print(\"num3:  \",num3,type(num3))"
   ]
  },
  {
   "cell_type": "markdown",
   "metadata": {},
   "source": [
    "2- Float"
   ]
  },
  {
   "cell_type": "code",
   "execution_count": 4,
   "metadata": {},
   "outputs": [
    {
     "name": "stdout",
     "output_type": "stream",
     "text": [
      "pi:  3.14159 <class 'float'>\n",
      "small_float:  -0.001 <class 'float'>\n",
      "exp_float 150.0 <class 'float'>\n"
     ]
    }
   ],
   "source": [
    "pi = 3.14159\n",
    "small_float= -0.001\n",
    "exp_float = 1.5e2\n",
    "print(\"pi: \",pi,type(pi))\n",
    "print(\"small_float: \",small_float,type(small_float))\n",
    "print(\"exp_float\",exp_float,type(exp_float))"
   ]
  },
  {
   "cell_type": "markdown",
   "metadata": {},
   "source": [
    "3- Strings"
   ]
  },
  {
   "cell_type": "markdown",
   "metadata": {},
   "source": [
    "a) Basic String Declaration"
   ]
  },
  {
   "cell_type": "code",
   "execution_count": 6,
   "metadata": {},
   "outputs": [
    {
     "name": "stdout",
     "output_type": "stream",
     "text": [
      "Greetings:  I am a String <class 'str'>\n",
      "Name :  My name  can be in single quotes <class 'str'>\n",
      "Memorable Letter Hi World!\n",
      "I am a Multiline String.\n",
      "Thanks\n",
      "Yours Truly\n",
      "Python <class 'str'>\n"
     ]
    }
   ],
   "source": [
    "greeting = \"I am a String\"\n",
    "name = ' My name  can be in single quotes'\n",
    "letter = \"\"\"Hi World!\n",
    "I am a Multiline String.\n",
    "Thanks\n",
    "Yours Truly\n",
    "Python\"\"\"\n",
    "print(\"Greetings: \",greeting,type(greeting))\n",
    "print(\"Name :\",name,type(name))\n",
    "print(\"Memorable Letter\",letter,type(letter))"
   ]
  },
  {
   "cell_type": "markdown",
   "metadata": {},
   "source": [
    "b)Concatenation"
   ]
  },
  {
   "cell_type": "code",
   "execution_count": null,
   "metadata": {},
   "outputs": [
    {
     "name": "stdout",
     "output_type": "stream",
     "text": [
      "Full name: Hisham Abu Yusuf\n"
     ]
    }
   ],
   "source": [
    "first_name=\"Hisham\"\n",
    "last_name=\"Abu Yusuf\"\n",
    "full_name=first_name+\" \"+last_name\n",
    "print(\"One of my mentors is \",full_name)"
   ]
  },
  {
   "cell_type": "markdown",
   "metadata": {},
   "source": [
    "c)Repetition"
   ]
  },
  {
   "cell_type": "code",
   "execution_count": 9,
   "metadata": {},
   "outputs": [
    {
     "name": "stdout",
     "output_type": "stream",
     "text": [
      "He was laughing and saying  hahahahahaha\n"
     ]
    }
   ],
   "source": [
    "ha_6_times = \"ha\" * 6\n",
    "print(\"He was laughing and saying \",ha_6_times)"
   ]
  },
  {
   "cell_type": "markdown",
   "metadata": {},
   "source": [
    "d)String Indexing and Slicing"
   ]
  },
  {
   "cell_type": "code",
   "execution_count": 3,
   "metadata": {},
   "outputs": [
    {
     "name": "stdout",
     "output_type": "stream",
     "text": [
      "greetings[0] =  H\n",
      "greetings[0:5] Hello\n"
     ]
    }
   ],
   "source": [
    "greetings = \"Hello World\"\n",
    "print(\"greetings[0] = \",greetings[0])\n",
    "print(\"greetings[0:5]\",greetings[0:5])"
   ]
  },
  {
   "cell_type": "markdown",
   "metadata": {},
   "source": [
    "e) f strings"
   ]
  },
  {
   "cell_type": "markdown",
   "metadata": {},
   "source": [
    "name=\"Misbah\"\n",
    "print(f\"{name} was a very good cricket player.\")"
   ]
  },
  {
   "cell_type": "markdown",
   "metadata": {},
   "source": [
    "4- Boolean\n",
    "Don't use 0,1 instead of True False"
   ]
  },
  {
   "cell_type": "code",
   "execution_count": null,
   "metadata": {},
   "outputs": [
    {
     "name": "stdout",
     "output_type": "stream",
     "text": [
      "Is Python Easy:  True\n",
      "Do you like Cofee False\n",
      "Yes! Python is Easy\n"
     ]
    }
   ],
   "source": [
    "is_python_easy = True  #Descriptive Names\n",
    "likes_coffee = False\n",
    "print(\"Is Python Easy: \",is_python_easy)\n",
    "print(\"Do you like Cofee: \",likes_coffee)\n",
    "\n",
    "#For checking status don't write if is_python_easy==true \n",
    "#Instead do this:\n",
    "if is_python_easy:\n",
    "    print(\"Yes! Python is Easy\")\n"
   ]
  },
  {
   "cell_type": "markdown",
   "metadata": {},
   "source": [
    "5- None Data Type\n",
    "Represents Absence of Value\n"
   ]
  },
  {
   "cell_type": "code",
   "execution_count": 13,
   "metadata": {},
   "outputs": [
    {
     "name": "stdout",
     "output_type": "stream",
     "text": [
      "Nothing Here:  None\n",
      "This variable has no value!\n"
     ]
    }
   ],
   "source": [
    "nothing_here=None\n",
    "print(\"Nothing Here: \",nothing_here)\n",
    "#Checking Status\n",
    "if nothing_here is None:\n",
    "    print(\"This variable has no value!\")"
   ]
  },
  {
   "cell_type": "markdown",
   "metadata": {},
   "source": [
    "6-Collections Data Types\n",
    "\n",
    "-List\n",
    "\n",
    "-Tuple\n",
    "\n",
    "-Set\n",
    "\n",
    "-Dictionary"
   ]
  }
 ],
 "metadata": {
  "kernelspec": {
   "display_name": "awfera",
   "language": "python",
   "name": "python3"
  },
  "language_info": {
   "codemirror_mode": {
    "name": "ipython",
    "version": 3
   },
   "file_extension": ".py",
   "mimetype": "text/x-python",
   "name": "python",
   "nbconvert_exporter": "python",
   "pygments_lexer": "ipython3",
   "version": "3.13.2"
  }
 },
 "nbformat": 4,
 "nbformat_minor": 2
}
